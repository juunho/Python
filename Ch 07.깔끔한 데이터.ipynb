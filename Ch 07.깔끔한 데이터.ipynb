{
  "nbformat": 4,
  "nbformat_minor": 0,
  "metadata": {
    "colab": {
      "provenance": [],
      "authorship_tag": "ABX9TyNk6G7eUtUsDGIp0btRiV2F",
      "include_colab_link": true
    },
    "kernelspec": {
      "name": "python3",
      "display_name": "Python 3"
    },
    "language_info": {
      "name": "python"
    }
  },
  "cells": [
    {
      "cell_type": "markdown",
      "metadata": {
        "id": "view-in-github",
        "colab_type": "text"
      },
      "source": [
        "<a href=\"https://colab.research.google.com/github/juunho/Study_Python/blob/main/Ch%2007.%EA%B9%94%EB%81%94%ED%95%9C%20%EB%8D%B0%EC%9D%B4%ED%84%B0.ipynb\" target=\"_parent\"><img src=\"https://colab.research.google.com/assets/colab-badge.svg\" alt=\"Open In Colab\"/></a>"
      ]
    },
    {
      "cell_type": "code",
      "source": [
        "from google.colab import drive\n",
        "drive.mount('/content/gdrive')"
      ],
      "metadata": {
        "id": "CTcBR009079i",
        "colab": {
          "base_uri": "https://localhost:8080/"
        },
        "outputId": "14da030e-cb21-4d83-fc8b-51d8e868763d"
      },
      "execution_count": 2,
      "outputs": [
        {
          "output_type": "stream",
          "name": "stdout",
          "text": [
            "Mounted at /content/gdrive\n"
          ]
        }
      ]
    },
    {
      "cell_type": "code",
      "source": [
        "import os\n",
        "os.chdir('/content/gdrive/MyDrive/Colab Notebooks/Study Repository/Python/Do it! Pandas')\n",
        "\n",
        "!pwd"
      ],
      "metadata": {
        "colab": {
          "base_uri": "https://localhost:8080/"
        },
        "id": "A_3nI5om0lKn",
        "outputId": "778ab5d2-4a36-44ac-d9ca-b7af3ae06845"
      },
      "execution_count": 3,
      "outputs": [
        {
          "output_type": "stream",
          "name": "stdout",
          "text": [
            "/content/gdrive/MyDrive/Colab Notebooks/Study Repository/Python/Do it! Pandas\n"
          ]
        }
      ]
    },
    {
      "cell_type": "markdown",
      "source": [
        "### 7-1 열과 피벗 "
      ],
      "metadata": {
        "id": "WeUwEytl1Bxc"
      }
    },
    {
      "cell_type": "markdown",
      "source": [
        "- melt 메서드는 지정한 열의 데이터를 모두 행으로 정리\n",
        "    - id_vars : 위치를 그대로 유지할 열 지정\n",
        "    - value_vars : 행으로 위치를 변경할 열의 이름을 지정"
      ],
      "metadata": {
        "id": "OipM-wOQtD1t"
      }
    },
    {
      "cell_type": "code",
      "source": [
        "import pandas as pd\n",
        "\n",
        "pew = pd.read_csv('data/pew.csv')\n",
        "print(pew.head())"
      ],
      "metadata": {
        "colab": {
          "base_uri": "https://localhost:8080/"
        },
        "id": "4tF1aNJEtMFG",
        "outputId": "89e6ee11-a818-4a06-ae1b-2b9d923bda0f"
      },
      "execution_count": 5,
      "outputs": [
        {
          "output_type": "stream",
          "name": "stdout",
          "text": [
            "             religion  <$10k  $10-20k  $20-30k  $30-40k  $40-50k  $50-75k  \\\n",
            "0            Agnostic     27       34       60       81       76      137   \n",
            "1             Atheist     12       27       37       52       35       70   \n",
            "2            Buddhist     27       21       30       34       33       58   \n",
            "3            Catholic    418      617      732      670      638     1116   \n",
            "4  Don’t know/refused     15       14       15       11       10       35   \n",
            "\n",
            "   $75-100k  $100-150k  >150k  Don't know/refused  \n",
            "0       122        109     84                  96  \n",
            "1        73         59     74                  76  \n",
            "2        62         39     53                  54  \n",
            "3       949        792    633                1489  \n",
            "4        21         17     18                 116  \n"
          ]
        }
      ]
    },
    {
      "cell_type": "code",
      "source": [
        "print(pew.iloc[:,0:6])"
      ],
      "metadata": {
        "colab": {
          "base_uri": "https://localhost:8080/"
        },
        "id": "77fuaL2oto9m",
        "outputId": "427082f2-09d2-437e-acd4-ebdee00fb330"
      },
      "execution_count": 6,
      "outputs": [
        {
          "output_type": "stream",
          "name": "stdout",
          "text": [
            "                   religion  <$10k  $10-20k  $20-30k  $30-40k  $40-50k\n",
            "0                  Agnostic     27       34       60       81       76\n",
            "1                   Atheist     12       27       37       52       35\n",
            "2                  Buddhist     27       21       30       34       33\n",
            "3                  Catholic    418      617      732      670      638\n",
            "4        Don’t know/refused     15       14       15       11       10\n",
            "5          Evangelical Prot    575      869     1064      982      881\n",
            "6                     Hindu      1        9        7        9       11\n",
            "7   Historically Black Prot    228      244      236      238      197\n",
            "8         Jehovah's Witness     20       27       24       24       21\n",
            "9                    Jewish     19       19       25       25       30\n",
            "10            Mainline Prot    289      495      619      655      651\n",
            "11                   Mormon     29       40       48       51       56\n",
            "12                   Muslim      6        7        9       10        9\n",
            "13                 Orthodox     13       17       23       32       32\n",
            "14          Other Christian      9        7       11       13       13\n",
            "15             Other Faiths     20       33       40       46       49\n",
            "16    Other World Religions      5        2        3        4        2\n",
            "17             Unaffiliated    217      299      374      365      341\n"
          ]
        }
      ]
    },
    {
      "cell_type": "markdown",
      "source": [
        "- melt 메서드를 이용해 소득정보 열을 행 데이터로 옮기기\n",
        "    - religion 행을 고정하여 피벗"
      ],
      "metadata": {
        "id": "dZbBhdztttdA"
      }
    },
    {
      "cell_type": "code",
      "source": [
        "pew_long = pd.melt(pew, id_vars='religion')\n",
        "print(pew_long.head())"
      ],
      "metadata": {
        "colab": {
          "base_uri": "https://localhost:8080/"
        },
        "id": "C5eXqo8vt6Vx",
        "outputId": "804dc770-432e-4e0b-caf9-672896cad3ac"
      },
      "execution_count": 7,
      "outputs": [
        {
          "output_type": "stream",
          "name": "stdout",
          "text": [
            "             religion variable  value\n",
            "0            Agnostic    <$10k     27\n",
            "1             Atheist    <$10k     12\n",
            "2            Buddhist    <$10k     27\n",
            "3            Catholic    <$10k    418\n",
            "4  Don’t know/refused    <$10k     15\n"
          ]
        }
      ]
    },
    {
      "cell_type": "markdown",
      "source": [
        "- var_name, value_name 인자값을 이용해 이름 변경"
      ],
      "metadata": {
        "id": "Z7rVLHCGtka_"
      }
    },
    {
      "cell_type": "code",
      "source": [
        "pew_long = pd.melt(pew, id_vars='religion', var_name='income', value_name='count')\n",
        "print(pew_long.head())"
      ],
      "metadata": {
        "colab": {
          "base_uri": "https://localhost:8080/"
        },
        "id": "W0FQFP9bvb5A",
        "outputId": "b6b0b05d-96fe-4565-cc52-54f12f45068c"
      },
      "execution_count": 8,
      "outputs": [
        {
          "output_type": "stream",
          "name": "stdout",
          "text": [
            "             religion income  count\n",
            "0            Agnostic  <$10k     27\n",
            "1             Atheist  <$10k     12\n",
            "2            Buddhist  <$10k     27\n",
            "3            Catholic  <$10k    418\n",
            "4  Don’t know/refused  <$10k     15\n"
          ]
        }
      ]
    },
    {
      "cell_type": "markdown",
      "source": [
        "- 2개 이상의 열을 고정하여 피벗"
      ],
      "metadata": {
        "id": "-MWK_D6dvlwy"
      }
    },
    {
      "cell_type": "code",
      "source": [
        "billboard = pd.read_csv('data/billboard.csv')\n",
        "print(billboard.iloc[0:5, 0:16])\n",
        "print(billboard.shape)"
      ],
      "metadata": {
        "colab": {
          "base_uri": "https://localhost:8080/"
        },
        "id": "TJzjO01Lvxq8",
        "outputId": "95945191-2279-482d-e588-3f6261781c49"
      },
      "execution_count": 12,
      "outputs": [
        {
          "output_type": "stream",
          "name": "stdout",
          "text": [
            "   year        artist                    track  time date.entered  wk1   wk2  \\\n",
            "0  2000         2 Pac  Baby Don't Cry (Keep...  4:22   2000-02-26   87  82.0   \n",
            "1  2000       2Ge+her  The Hardest Part Of ...  3:15   2000-09-02   91  87.0   \n",
            "2  2000  3 Doors Down               Kryptonite  3:53   2000-04-08   81  70.0   \n",
            "3  2000  3 Doors Down                    Loser  4:24   2000-10-21   76  76.0   \n",
            "4  2000      504 Boyz            Wobble Wobble  3:35   2000-04-15   57  34.0   \n",
            "\n",
            "    wk3   wk4   wk5   wk6   wk7   wk8   wk9  wk10  wk11  \n",
            "0  72.0  77.0  87.0  94.0  99.0   NaN   NaN   NaN   NaN  \n",
            "1  92.0   NaN   NaN   NaN   NaN   NaN   NaN   NaN   NaN  \n",
            "2  68.0  67.0  66.0  57.0  54.0  53.0  51.0  51.0  51.0  \n",
            "3  72.0  69.0  67.0  65.0  55.0  59.0  62.0  61.0  61.0  \n",
            "4  25.0  17.0  17.0  31.0  36.0  49.0  53.0  57.0  64.0  \n",
            "(317, 81)\n"
          ]
        }
      ]
    },
    {
      "cell_type": "code",
      "source": [
        "billboard.long = pd.melt(billboard, id_vars=['year','artist','track','time','date.entered'], \n",
        "                         var_name='week', value_name='rating')\n",
        "print(billboard.long.head())\n",
        "print(billboard.long.shape)"
      ],
      "metadata": {
        "colab": {
          "base_uri": "https://localhost:8080/"
        },
        "id": "bCsVC9qGv45W",
        "outputId": "839935a3-1549-4d87-e8d5-a763f1a7dd90"
      },
      "execution_count": 13,
      "outputs": [
        {
          "output_type": "stream",
          "name": "stdout",
          "text": [
            "   year        artist                    track  time date.entered week  rating\n",
            "0  2000         2 Pac  Baby Don't Cry (Keep...  4:22   2000-02-26  wk1    87.0\n",
            "1  2000       2Ge+her  The Hardest Part Of ...  3:15   2000-09-02  wk1    91.0\n",
            "2  2000  3 Doors Down               Kryptonite  3:53   2000-04-08  wk1    81.0\n",
            "3  2000  3 Doors Down                    Loser  4:24   2000-10-21  wk1    76.0\n",
            "4  2000      504 Boyz            Wobble Wobble  3:35   2000-04-15  wk1    57.0\n",
            "(24092, 7)\n"
          ]
        },
        {
          "output_type": "stream",
          "name": "stderr",
          "text": [
            "/usr/local/lib/python3.7/dist-packages/ipykernel_launcher.py:2: UserWarning: Pandas doesn't allow columns to be created via a new attribute name - see https://pandas.pydata.org/pandas-docs/stable/indexing.html#attribute-access\n",
            "  \n"
          ]
        }
      ]
    },
    {
      "cell_type": "markdown",
      "source": [
        "### 7.2 열 이름 관리하기"
      ],
      "metadata": {
        "id": "CxBe-wRPwDkP"
      }
    },
    {
      "cell_type": "code",
      "source": [
        "ebola = pd.read_csv('data/country_timeseries.csv')\n",
        "print(ebola.columns)\n",
        "\n",
        "print(ebola.iloc[:5, [0,1,2,3,10,11]])"
      ],
      "metadata": {
        "colab": {
          "base_uri": "https://localhost:8080/"
        },
        "id": "lCSAoiOXwlWF",
        "outputId": "5d5c8cd8-8bb4-4f2c-8d79-76bf5950e9b8"
      },
      "execution_count": 15,
      "outputs": [
        {
          "output_type": "stream",
          "name": "stdout",
          "text": [
            "Index(['Date', 'Day', 'Cases_Guinea', 'Cases_Liberia', 'Cases_SierraLeone',\n",
            "       'Cases_Nigeria', 'Cases_Senegal', 'Cases_UnitedStates', 'Cases_Spain',\n",
            "       'Cases_Mali', 'Deaths_Guinea', 'Deaths_Liberia', 'Deaths_SierraLeone',\n",
            "       'Deaths_Nigeria', 'Deaths_Senegal', 'Deaths_UnitedStates',\n",
            "       'Deaths_Spain', 'Deaths_Mali'],\n",
            "      dtype='object')\n",
            "         Date  Day  Cases_Guinea  Cases_Liberia  Deaths_Guinea  Deaths_Liberia\n",
            "0    1/5/2015  289        2776.0            NaN         1786.0             NaN\n",
            "1    1/4/2015  288        2775.0            NaN         1781.0             NaN\n",
            "2    1/3/2015  287        2769.0         8166.0         1767.0          3496.0\n",
            "3    1/2/2015  286           NaN         8157.0            NaN          3496.0\n",
            "4  12/31/2014  284        2730.0         8115.0         1739.0          3471.0\n"
          ]
        }
      ]
    },
    {
      "cell_type": "markdown",
      "source": [
        "- 각 나라별 사망자를 보기 위해 Date, Day 고정 후 피벗"
      ],
      "metadata": {
        "id": "21WFO0hOxLjI"
      }
    },
    {
      "cell_type": "code",
      "source": [
        "ebola_long = pd.melt(ebola, id_vars=['Date','Day'])\n",
        "print(ebola_long.head())"
      ],
      "metadata": {
        "colab": {
          "base_uri": "https://localhost:8080/"
        },
        "id": "2kz7iw-XxS3b",
        "outputId": "42005c67-033f-4706-fde4-8ad888bf729d"
      },
      "execution_count": 16,
      "outputs": [
        {
          "output_type": "stream",
          "name": "stdout",
          "text": [
            "         Date  Day      variable   value\n",
            "0    1/5/2015  289  Cases_Guinea  2776.0\n",
            "1    1/4/2015  288  Cases_Guinea  2775.0\n",
            "2    1/3/2015  287  Cases_Guinea  2769.0\n",
            "3    1/2/2015  286  Cases_Guinea     NaN\n",
            "4  12/31/2014  284  Cases_Guinea  2730.0\n"
          ]
        }
      ]
    },
    {
      "cell_type": "markdown",
      "source": [
        "- 2개 이상의 의미를 가지고 있는 칼럼을 split 메서드로 분리"
      ],
      "metadata": {
        "id": "DA8hh3WFxEqg"
      }
    },
    {
      "cell_type": "code",
      "source": [
        "variable_split = ebola_long.variable.str.split('_')\n",
        "print(variable_split[:5])"
      ],
      "metadata": {
        "colab": {
          "base_uri": "https://localhost:8080/"
        },
        "id": "P-Ah1Dtkxhoz",
        "outputId": "f1c016a3-a966-4e95-b27d-b9f4b3a8a22f"
      },
      "execution_count": 18,
      "outputs": [
        {
          "output_type": "stream",
          "name": "stdout",
          "text": [
            "0    [Cases, Guinea]\n",
            "1    [Cases, Guinea]\n",
            "2    [Cases, Guinea]\n",
            "3    [Cases, Guinea]\n",
            "4    [Cases, Guinea]\n",
            "Name: variable, dtype: object\n"
          ]
        }
      ]
    },
    {
      "cell_type": "code",
      "source": [
        "print(type(variable_split))\n",
        "\n",
        "print(type(variable_split[0]))"
      ],
      "metadata": {
        "colab": {
          "base_uri": "https://localhost:8080/"
        },
        "id": "Tn3Kwr_DyIZO",
        "outputId": "152b4db8-feb6-4b04-9b64-ad10cc8b4800"
      },
      "execution_count": 19,
      "outputs": [
        {
          "output_type": "stream",
          "name": "stdout",
          "text": [
            "<class 'pandas.core.series.Series'>\n",
            "<class 'list'>\n"
          ]
        }
      ]
    },
    {
      "cell_type": "markdown",
      "source": [
        "- get 메서드를 이용해 리스트의 0과 1번째 인덱스의 데이터 추출"
      ],
      "metadata": {
        "id": "OUAs4P2nyDSP"
      }
    },
    {
      "cell_type": "code",
      "source": [
        "status_values = variable_split.str.get(0)\n",
        "country_values = variable_split.str.get(1)\n",
        "\n",
        "print(status_values[:5])\n",
        "print(status_values[-5:])\n",
        "\n",
        "print(country_values[:5])\n",
        "print(country_values[-5:])"
      ],
      "metadata": {
        "colab": {
          "base_uri": "https://localhost:8080/"
        },
        "id": "Ly3S1jWHyoj7",
        "outputId": "cc0c6d9d-ff83-4a69-8d67-0a8387cabffc"
      },
      "execution_count": 25,
      "outputs": [
        {
          "output_type": "stream",
          "name": "stdout",
          "text": [
            "0    Cases\n",
            "1    Cases\n",
            "2    Cases\n",
            "3    Cases\n",
            "4    Cases\n",
            "Name: variable, dtype: object\n",
            "1947    Deaths\n",
            "1948    Deaths\n",
            "1949    Deaths\n",
            "1950    Deaths\n",
            "1951    Deaths\n",
            "Name: variable, dtype: object\n",
            "0    Guinea\n",
            "1    Guinea\n",
            "2    Guinea\n",
            "3    Guinea\n",
            "4    Guinea\n",
            "Name: variable, dtype: object\n",
            "1947    Mali\n",
            "1948    Mali\n",
            "1949    Mali\n",
            "1950    Mali\n",
            "1951    Mali\n",
            "Name: variable, dtype: object\n"
          ]
        }
      ]
    },
    {
      "cell_type": "code",
      "source": [
        "ebola_long['status'] = status_values\n",
        "ebola_long['country'] = country_values\n",
        "print(ebola_long.head())"
      ],
      "metadata": {
        "colab": {
          "base_uri": "https://localhost:8080/"
        },
        "id": "M3vMU2-nyxD_",
        "outputId": "ddeee8dc-7d02-4814-b5c3-d8ba853ef579"
      },
      "execution_count": 26,
      "outputs": [
        {
          "output_type": "stream",
          "name": "stdout",
          "text": [
            "         Date  Day      variable   value status country\n",
            "0    1/5/2015  289  Cases_Guinea  2776.0  Cases  Guinea\n",
            "1    1/4/2015  288  Cases_Guinea  2775.0  Cases  Guinea\n",
            "2    1/3/2015  287  Cases_Guinea  2769.0  Cases  Guinea\n",
            "3    1/2/2015  286  Cases_Guinea     NaN  Cases  Guinea\n",
            "4  12/31/2014  284  Cases_Guinea  2730.0  Cases  Guinea\n"
          ]
        }
      ]
    },
    {
      "cell_type": "markdown",
      "source": [
        "- concat 메서드로 데이터프레임에 열 추가"
      ],
      "metadata": {
        "id": "UOvapuyZz7Oj"
      }
    },
    {
      "cell_type": "code",
      "source": [
        "variable_split = ebola_long.variable.str.split('_', expand=True)\n",
        "variable_split.columns = ['status','country']\n",
        "ebola_parsed = pd.concat([ebola_long, variable_split], axis=1)"
      ],
      "metadata": {
        "id": "d0YMqBJ2z-tI"
      },
      "execution_count": 28,
      "outputs": []
    },
    {
      "cell_type": "code",
      "source": [
        "print(ebola_parsed.head())"
      ],
      "metadata": {
        "colab": {
          "base_uri": "https://localhost:8080/"
        },
        "id": "9Ybaj1JQ0k1z",
        "outputId": "fb1bdeb3-de88-4ba4-eb26-68eb39865099"
      },
      "execution_count": 29,
      "outputs": [
        {
          "output_type": "stream",
          "name": "stdout",
          "text": [
            "         Date  Day      variable   value status country status country\n",
            "0    1/5/2015  289  Cases_Guinea  2776.0  Cases  Guinea  Cases  Guinea\n",
            "1    1/4/2015  288  Cases_Guinea  2775.0  Cases  Guinea  Cases  Guinea\n",
            "2    1/3/2015  287  Cases_Guinea  2769.0  Cases  Guinea  Cases  Guinea\n",
            "3    1/2/2015  286  Cases_Guinea     NaN  Cases  Guinea  Cases  Guinea\n",
            "4  12/31/2014  284  Cases_Guinea  2730.0  Cases  Guinea  Cases  Guinea\n"
          ]
        }
      ]
    },
    {
      "cell_type": "code",
      "source": [],
      "metadata": {
        "id": "IYghqpPr0zXJ"
      },
      "execution_count": null,
      "outputs": []
    }
  ]
}